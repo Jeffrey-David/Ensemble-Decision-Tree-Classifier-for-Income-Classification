{
 "cells": [
  {
   "cell_type": "markdown",
   "id": "bdf8d055",
   "metadata": {},
   "source": [
    "# Data Mining\n",
    "## Ensemble Decision Tree Classifier for Income Classification"
   ]
  },
  {
   "cell_type": "markdown",
   "id": "788d14c7",
   "metadata": {},
   "source": [
    "### Import Libraries"
   ]
  },
  {
   "cell_type": "code",
   "execution_count": 1,
   "id": "f4a0ef31",
   "metadata": {},
   "outputs": [],
   "source": [
    "import numpy as np\n",
    "import pandas as pd\n",
    "from sklearn.preprocessing import LabelEncoder\n",
    "from sklearn.utils import resample\n",
    "from sklearn.metrics import confusion_matrix\n",
    "import seaborn as sns\n",
    "import matplotlib.pyplot as plt\n",
    "from sklearn.metrics import confusion_matrix\n",
    "import time"
   ]
  },
  {
   "cell_type": "markdown",
   "id": "39b0587d",
   "metadata": {},
   "source": [
    "### Creating a Class to define the structure of a Node in the Tree"
   ]
  },
  {
   "cell_type": "code",
   "execution_count": 2,
   "id": "d2a47b43",
   "metadata": {},
   "outputs": [],
   "source": [
    "class TreeNode:\n",
    "    def __init__(self, feature=None, threshold=None, label=None):\n",
    "        self.feature = feature\n",
    "        self.threshold = threshold\n",
    "        self.label = label\n",
    "        self.children = {}"
   ]
  },
  {
   "cell_type": "markdown",
   "id": "e9d76f8e",
   "metadata": {},
   "source": [
    "### The Decision Tree Classifier using Hunt's Algorithm"
   ]
  },
  {
   "cell_type": "code",
   "execution_count": 3,
   "id": "d02435f2",
   "metadata": {},
   "outputs": [],
   "source": [
    "class DecisionTreeClassifierHunt:\n",
    "    def __init__(self, maxDepth=None, minSamplesLeaf=1):\n",
    "        # Initialize the decision tree classifier with given parameters.\n",
    "        self.maxDepth = maxDepth  # Maximum depth of the tree.\n",
    "        self.minSamplesLeaf = minSamplesLeaf  # Minimum samples in a leaf node.\n",
    "        self.tree = None  # Placeholder for the decision tree structure.\n",
    "\n",
    "    def fit(self, features, target):\n",
    "        # Train the decision tree classifier on the provided data.\n",
    "        self.tree = self.buildTree(features, target, depth=0)\n",
    "\n",
    "    def buildTree(self, features, target, depth):\n",
    "        # Recursively build the decision tree structure based on data and conditions.\n",
    "        # Conditions include depth, purity, and minimum samples per leaf.\n",
    "        if depth == self.maxDepth or len(np.unique(target)) == 1 or len(target) < self.minSamplesLeaf:\n",
    "            # Stop building if max depth, purity, or sample size conditions are met.\n",
    "            return TreeNode(label=np.bincount(target).argmax())\n",
    "\n",
    "        bestFeature, bestThreshold = self.findBestSplit(features, target)\n",
    "        # Find the best feature and threshold for data split.\n",
    "\n",
    "        if bestFeature is None:\n",
    "            # If no good split found, return a leaf with the majority class label.\n",
    "            return TreeNode(label=np.bincount(target).argmax())\n",
    "\n",
    "        node = TreeNode(feature=bestFeature, threshold=bestThreshold)\n",
    "        # Create a new tree node with the best split information.\n",
    "\n",
    "        leftIndices = features[:, bestFeature] <= bestThreshold\n",
    "        rightIndices = ~leftIndices\n",
    "        # Split data based on the selected feature and threshold.\n",
    "\n",
    "        node.children[0] = self.buildTree(features[leftIndices], target[leftIndices], depth + 1)\n",
    "        node.children[1] = self.buildTree(features[rightIndices], target[rightIndices], depth + 1)\n",
    "        # Recursively build left and right subtrees.\n",
    "\n",
    "        return node\n",
    "\n",
    "    def findBestSplit(self, features, target):\n",
    "        # Search for the best feature and threshold to minimize Gini impurity.\n",
    "        bestGini = 1\n",
    "        bestFeature = None\n",
    "        bestThreshold = None\n",
    "\n",
    "        for feature in range(features.shape[1]):\n",
    "            thresholds = np.unique(features[:, feature])\n",
    "\n",
    "            for i in range(1, len(thresholds)):\n",
    "                threshold = (thresholds[i - 1] + thresholds[i]) / 2.0\n",
    "\n",
    "                leftIndices = features[:, feature] <= threshold\n",
    "                rightIndices = ~leftIndices\n",
    "\n",
    "                if len(target[leftIndices]) < self.minSamplesLeaf or len(target[rightIndices]) < self.minSamplesLeaf:\n",
    "                    continue\n",
    "\n",
    "                gini = self.calculateGiniImpurity(target[leftIndices], target[rightIndices])\n",
    "\n",
    "                if gini < bestGini:\n",
    "                    bestGini = gini\n",
    "                    bestFeature = feature\n",
    "                    bestThreshold = threshold\n",
    "\n",
    "        return bestFeature, bestThreshold\n",
    "\n",
    "    def calculateGiniImpurity(self, leftLabels, rightLabels):\n",
    "        # Calculate Gini impurity to evaluate data split.\n",
    "        probLeft = len(leftLabels) / (len(leftLabels) + len(rightLabels))\n",
    "        probRight = 1 - probLeft\n",
    "\n",
    "        giniLeft = 1 - sum((np.sum(leftLabels == label) / len(leftLabels)) ** 2 for label in np.unique(leftLabels))\n",
    "        giniRight = 1 - sum((np.sum(rightLabels == label) / len(rightLabels)) ** 2 for label in np.unique(rightLabels))\n",
    "\n",
    "        giniImpurity = probLeft * giniLeft + probRight * giniRight\n",
    "        return giniImpurity\n",
    "\n",
    "    def predict(self, features):\n",
    "        # Make predictions for a list of feature vectors.\n",
    "        return np.array([self.predictTree(x, self.tree) for x in features])\n",
    "\n",
    "    def predictTree(self, x, node):\n",
    "        # Recursively traverse the decision tree to predict a class label for a single input.\n",
    "        if node.label is not None:\n",
    "            return node.label\n",
    "\n",
    "        if x[node.feature] <= node.threshold:\n",
    "            return self.predictTree(x, node.children[0])\n",
    "        else:\n",
    "            return self.predictTree(x, node.children[1])\n"
   ]
  },
  {
   "cell_type": "markdown",
   "id": "f9372072",
   "metadata": {},
   "source": [
    "### Importing the Training Data (adult.data)"
   ]
  },
  {
   "cell_type": "code",
   "execution_count": 4,
   "id": "b36a4e53",
   "metadata": {},
   "outputs": [
    {
     "data": {
      "text/html": [
       "<div>\n",
       "<style scoped>\n",
       "    .dataframe tbody tr th:only-of-type {\n",
       "        vertical-align: middle;\n",
       "    }\n",
       "\n",
       "    .dataframe tbody tr th {\n",
       "        vertical-align: top;\n",
       "    }\n",
       "\n",
       "    .dataframe thead th {\n",
       "        text-align: right;\n",
       "    }\n",
       "</style>\n",
       "<table border=\"1\" class=\"dataframe\">\n",
       "  <thead>\n",
       "    <tr style=\"text-align: right;\">\n",
       "      <th></th>\n",
       "      <th>age</th>\n",
       "      <th>workclass</th>\n",
       "      <th>fnlwgt</th>\n",
       "      <th>education</th>\n",
       "      <th>education-num</th>\n",
       "      <th>marital-status</th>\n",
       "      <th>occupation</th>\n",
       "      <th>relationship</th>\n",
       "      <th>race</th>\n",
       "      <th>sex</th>\n",
       "      <th>capital-gain</th>\n",
       "      <th>capital-loss</th>\n",
       "      <th>hours-per-week</th>\n",
       "      <th>native-country</th>\n",
       "      <th>income</th>\n",
       "    </tr>\n",
       "  </thead>\n",
       "  <tbody>\n",
       "    <tr>\n",
       "      <th>0</th>\n",
       "      <td>39</td>\n",
       "      <td>State-gov</td>\n",
       "      <td>77516</td>\n",
       "      <td>Bachelors</td>\n",
       "      <td>13</td>\n",
       "      <td>Never-married</td>\n",
       "      <td>Adm-clerical</td>\n",
       "      <td>Not-in-family</td>\n",
       "      <td>White</td>\n",
       "      <td>Male</td>\n",
       "      <td>2174</td>\n",
       "      <td>0</td>\n",
       "      <td>40</td>\n",
       "      <td>United-States</td>\n",
       "      <td>&lt;=50K</td>\n",
       "    </tr>\n",
       "    <tr>\n",
       "      <th>1</th>\n",
       "      <td>50</td>\n",
       "      <td>Self-emp-not-inc</td>\n",
       "      <td>83311</td>\n",
       "      <td>Bachelors</td>\n",
       "      <td>13</td>\n",
       "      <td>Married-civ-spouse</td>\n",
       "      <td>Exec-managerial</td>\n",
       "      <td>Husband</td>\n",
       "      <td>White</td>\n",
       "      <td>Male</td>\n",
       "      <td>0</td>\n",
       "      <td>0</td>\n",
       "      <td>13</td>\n",
       "      <td>United-States</td>\n",
       "      <td>&lt;=50K</td>\n",
       "    </tr>\n",
       "    <tr>\n",
       "      <th>2</th>\n",
       "      <td>38</td>\n",
       "      <td>Private</td>\n",
       "      <td>215646</td>\n",
       "      <td>HS-grad</td>\n",
       "      <td>9</td>\n",
       "      <td>Divorced</td>\n",
       "      <td>Handlers-cleaners</td>\n",
       "      <td>Not-in-family</td>\n",
       "      <td>White</td>\n",
       "      <td>Male</td>\n",
       "      <td>0</td>\n",
       "      <td>0</td>\n",
       "      <td>40</td>\n",
       "      <td>United-States</td>\n",
       "      <td>&lt;=50K</td>\n",
       "    </tr>\n",
       "    <tr>\n",
       "      <th>3</th>\n",
       "      <td>53</td>\n",
       "      <td>Private</td>\n",
       "      <td>234721</td>\n",
       "      <td>11th</td>\n",
       "      <td>7</td>\n",
       "      <td>Married-civ-spouse</td>\n",
       "      <td>Handlers-cleaners</td>\n",
       "      <td>Husband</td>\n",
       "      <td>Black</td>\n",
       "      <td>Male</td>\n",
       "      <td>0</td>\n",
       "      <td>0</td>\n",
       "      <td>40</td>\n",
       "      <td>United-States</td>\n",
       "      <td>&lt;=50K</td>\n",
       "    </tr>\n",
       "    <tr>\n",
       "      <th>4</th>\n",
       "      <td>28</td>\n",
       "      <td>Private</td>\n",
       "      <td>338409</td>\n",
       "      <td>Bachelors</td>\n",
       "      <td>13</td>\n",
       "      <td>Married-civ-spouse</td>\n",
       "      <td>Prof-specialty</td>\n",
       "      <td>Wife</td>\n",
       "      <td>Black</td>\n",
       "      <td>Female</td>\n",
       "      <td>0</td>\n",
       "      <td>0</td>\n",
       "      <td>40</td>\n",
       "      <td>Cuba</td>\n",
       "      <td>&lt;=50K</td>\n",
       "    </tr>\n",
       "  </tbody>\n",
       "</table>\n",
       "</div>"
      ],
      "text/plain": [
       "   age          workclass  fnlwgt   education  education-num  \\\n",
       "0   39          State-gov   77516   Bachelors             13   \n",
       "1   50   Self-emp-not-inc   83311   Bachelors             13   \n",
       "2   38            Private  215646     HS-grad              9   \n",
       "3   53            Private  234721        11th              7   \n",
       "4   28            Private  338409   Bachelors             13   \n",
       "\n",
       "        marital-status          occupation    relationship    race      sex  \\\n",
       "0        Never-married        Adm-clerical   Not-in-family   White     Male   \n",
       "1   Married-civ-spouse     Exec-managerial         Husband   White     Male   \n",
       "2             Divorced   Handlers-cleaners   Not-in-family   White     Male   \n",
       "3   Married-civ-spouse   Handlers-cleaners         Husband   Black     Male   \n",
       "4   Married-civ-spouse      Prof-specialty            Wife   Black   Female   \n",
       "\n",
       "   capital-gain  capital-loss  hours-per-week  native-country  income  \n",
       "0          2174             0              40   United-States   <=50K  \n",
       "1             0             0              13   United-States   <=50K  \n",
       "2             0             0              40   United-States   <=50K  \n",
       "3             0             0              40   United-States   <=50K  \n",
       "4             0             0              40            Cuba   <=50K  "
      ]
     },
     "execution_count": 4,
     "metadata": {},
     "output_type": "execute_result"
    }
   ],
   "source": [
    "# Load the dataset\n",
    "df = pd.read_csv(r'Census Income Data Set/adult.data', header=None, na_values=[' ?'])\n",
    "\n",
    "# Define column names\n",
    "columnNames = ['age', 'workclass', 'fnlwgt', 'education', 'education-num', 'marital-status', 'occupation',\n",
    "               'relationship', 'race', 'sex', 'capital-gain', 'capital-loss', 'hours-per-week', 'native-country', 'income']\n",
    "\n",
    "# Assign column names\n",
    "df.columns = columnNames\n",
    "\n",
    "df.head()"
   ]
  },
  {
   "cell_type": "markdown",
   "id": "49cf4155",
   "metadata": {},
   "source": [
    "### Data Overview"
   ]
  },
  {
   "cell_type": "code",
   "execution_count": 5,
   "id": "043eb784",
   "metadata": {},
   "outputs": [
    {
     "name": "stdout",
     "output_type": "stream",
     "text": [
      "Rows     :  32561\n",
      "Columns  :  15\n",
      "\n",
      "Features : \n",
      " ['age', 'workclass', 'fnlwgt', 'education', 'education-num', 'marital-status', 'occupation', 'relationship', 'race', 'sex', 'capital-gain', 'capital-loss', 'hours-per-week', 'native-country', 'income']\n",
      "\n",
      "Missing values :   4262\n",
      "\n",
      "Unique values :  \n",
      " age                  73\n",
      "workclass             8\n",
      "fnlwgt            21648\n",
      "education            16\n",
      "education-num        16\n",
      "marital-status        7\n",
      "occupation           14\n",
      "relationship          6\n",
      "race                  5\n",
      "sex                   2\n",
      "capital-gain        119\n",
      "capital-loss         92\n",
      "hours-per-week       94\n",
      "native-country       41\n",
      "income                2\n",
      "dtype: int64\n"
     ]
    }
   ],
   "source": [
    "print (\"Rows     : \" ,df.shape[0])\n",
    "print (\"Columns  : \" ,df.shape[1])\n",
    "print (\"\\nFeatures : \\n\" ,df.columns.tolist())\n",
    "print (\"\\nMissing values :  \", df.isnull().sum().values.sum())\n",
    "print (\"\\nUnique values :  \\n\",df.nunique())"
   ]
  },
  {
   "cell_type": "code",
   "execution_count": 6,
   "id": "3ad29a5f",
   "metadata": {},
   "outputs": [
    {
     "data": {
      "text/html": [
       "<div>\n",
       "<style scoped>\n",
       "    .dataframe tbody tr th:only-of-type {\n",
       "        vertical-align: middle;\n",
       "    }\n",
       "\n",
       "    .dataframe tbody tr th {\n",
       "        vertical-align: top;\n",
       "    }\n",
       "\n",
       "    .dataframe thead th {\n",
       "        text-align: right;\n",
       "    }\n",
       "</style>\n",
       "<table border=\"1\" class=\"dataframe\">\n",
       "  <thead>\n",
       "    <tr style=\"text-align: right;\">\n",
       "      <th></th>\n",
       "      <th>age</th>\n",
       "      <th>fnlwgt</th>\n",
       "      <th>education-num</th>\n",
       "      <th>capital-gain</th>\n",
       "      <th>capital-loss</th>\n",
       "      <th>hours-per-week</th>\n",
       "    </tr>\n",
       "  </thead>\n",
       "  <tbody>\n",
       "    <tr>\n",
       "      <th>count</th>\n",
       "      <td>32561.000000</td>\n",
       "      <td>3.256100e+04</td>\n",
       "      <td>32561.000000</td>\n",
       "      <td>32561.000000</td>\n",
       "      <td>32561.000000</td>\n",
       "      <td>32561.000000</td>\n",
       "    </tr>\n",
       "    <tr>\n",
       "      <th>mean</th>\n",
       "      <td>38.581647</td>\n",
       "      <td>1.897784e+05</td>\n",
       "      <td>10.080679</td>\n",
       "      <td>1077.648844</td>\n",
       "      <td>87.303830</td>\n",
       "      <td>40.437456</td>\n",
       "    </tr>\n",
       "    <tr>\n",
       "      <th>std</th>\n",
       "      <td>13.640433</td>\n",
       "      <td>1.055500e+05</td>\n",
       "      <td>2.572720</td>\n",
       "      <td>7385.292085</td>\n",
       "      <td>402.960219</td>\n",
       "      <td>12.347429</td>\n",
       "    </tr>\n",
       "    <tr>\n",
       "      <th>min</th>\n",
       "      <td>17.000000</td>\n",
       "      <td>1.228500e+04</td>\n",
       "      <td>1.000000</td>\n",
       "      <td>0.000000</td>\n",
       "      <td>0.000000</td>\n",
       "      <td>1.000000</td>\n",
       "    </tr>\n",
       "    <tr>\n",
       "      <th>25%</th>\n",
       "      <td>28.000000</td>\n",
       "      <td>1.178270e+05</td>\n",
       "      <td>9.000000</td>\n",
       "      <td>0.000000</td>\n",
       "      <td>0.000000</td>\n",
       "      <td>40.000000</td>\n",
       "    </tr>\n",
       "    <tr>\n",
       "      <th>50%</th>\n",
       "      <td>37.000000</td>\n",
       "      <td>1.783560e+05</td>\n",
       "      <td>10.000000</td>\n",
       "      <td>0.000000</td>\n",
       "      <td>0.000000</td>\n",
       "      <td>40.000000</td>\n",
       "    </tr>\n",
       "    <tr>\n",
       "      <th>75%</th>\n",
       "      <td>48.000000</td>\n",
       "      <td>2.370510e+05</td>\n",
       "      <td>12.000000</td>\n",
       "      <td>0.000000</td>\n",
       "      <td>0.000000</td>\n",
       "      <td>45.000000</td>\n",
       "    </tr>\n",
       "    <tr>\n",
       "      <th>max</th>\n",
       "      <td>90.000000</td>\n",
       "      <td>1.484705e+06</td>\n",
       "      <td>16.000000</td>\n",
       "      <td>99999.000000</td>\n",
       "      <td>4356.000000</td>\n",
       "      <td>99.000000</td>\n",
       "    </tr>\n",
       "  </tbody>\n",
       "</table>\n",
       "</div>"
      ],
      "text/plain": [
       "                age        fnlwgt  education-num  capital-gain  capital-loss  \\\n",
       "count  32561.000000  3.256100e+04   32561.000000  32561.000000  32561.000000   \n",
       "mean      38.581647  1.897784e+05      10.080679   1077.648844     87.303830   \n",
       "std       13.640433  1.055500e+05       2.572720   7385.292085    402.960219   \n",
       "min       17.000000  1.228500e+04       1.000000      0.000000      0.000000   \n",
       "25%       28.000000  1.178270e+05       9.000000      0.000000      0.000000   \n",
       "50%       37.000000  1.783560e+05      10.000000      0.000000      0.000000   \n",
       "75%       48.000000  2.370510e+05      12.000000      0.000000      0.000000   \n",
       "max       90.000000  1.484705e+06      16.000000  99999.000000   4356.000000   \n",
       "\n",
       "       hours-per-week  \n",
       "count    32561.000000  \n",
       "mean        40.437456  \n",
       "std         12.347429  \n",
       "min          1.000000  \n",
       "25%         40.000000  \n",
       "50%         40.000000  \n",
       "75%         45.000000  \n",
       "max         99.000000  "
      ]
     },
     "execution_count": 6,
     "metadata": {},
     "output_type": "execute_result"
    }
   ],
   "source": [
    "df.describe()"
   ]
  },
  {
   "cell_type": "code",
   "execution_count": 7,
   "id": "11a9eeb5",
   "metadata": {},
   "outputs": [
    {
     "data": {
      "text/plain": [
       "age               0.000000\n",
       "workclass         5.638647\n",
       "fnlwgt            0.000000\n",
       "education         0.000000\n",
       "education-num     0.000000\n",
       "marital-status    0.000000\n",
       "occupation        5.660146\n",
       "relationship      0.000000\n",
       "race              0.000000\n",
       "sex               0.000000\n",
       "capital-gain      0.000000\n",
       "capital-loss      0.000000\n",
       "hours-per-week    0.000000\n",
       "native-country    1.790486\n",
       "income            0.000000\n",
       "dtype: float64"
      ]
     },
     "execution_count": 7,
     "metadata": {},
     "output_type": "execute_result"
    }
   ],
   "source": [
    "percent_missing = (df.isnull()).sum() * 100/len(df)\n",
    "percent_missing"
   ]
  },
  {
   "cell_type": "code",
   "execution_count": 8,
   "id": "d497fe0e",
   "metadata": {},
   "outputs": [
    {
     "data": {
      "text/plain": [
       "2399"
      ]
     },
     "execution_count": 8,
     "metadata": {},
     "output_type": "execute_result"
    }
   ],
   "source": [
    "df.isna().any(axis=1).sum()"
   ]
  },
  {
   "cell_type": "markdown",
   "id": "75fe3eb1",
   "metadata": {},
   "source": [
    "### Preprocess the Training Dataset (adult.data)"
   ]
  },
  {
   "cell_type": "markdown",
   "id": "b91c1e74",
   "metadata": {},
   "source": [
    "#### Drop missing values"
   ]
  },
  {
   "cell_type": "code",
   "execution_count": 9,
   "id": "d9c59edf",
   "metadata": {},
   "outputs": [],
   "source": [
    "df.dropna(inplace=True)"
   ]
  },
  {
   "cell_type": "code",
   "execution_count": 10,
   "id": "db2a1b42",
   "metadata": {},
   "outputs": [
    {
     "name": "stdout",
     "output_type": "stream",
     "text": [
      " <=50K    22654\n",
      " >50K      7508\n",
      "Name: income, dtype: int64\n",
      "0    22654\n",
      "1     7508\n",
      "Name: income, dtype: int64\n"
     ]
    }
   ],
   "source": [
    "# Convert 'income' column to binary labels (0 for <=50K, 1 for >50K)\n",
    "print(df['income'].value_counts())\n",
    "df['income'] = df['income'].apply(lambda x: 0 if x == ' <=50K' else 1)\n",
    "print(df['income'].value_counts())\n"
   ]
  },
  {
   "cell_type": "markdown",
   "id": "09c643f9",
   "metadata": {},
   "source": [
    "#### Separate features and target variable"
   ]
  },
  {
   "cell_type": "code",
   "execution_count": 11,
   "id": "a3d61429",
   "metadata": {},
   "outputs": [
    {
     "name": "stdout",
     "output_type": "stream",
     "text": [
      "0    22654\n",
      "1     7508\n",
      "Name: income, dtype: int64\n"
     ]
    }
   ],
   "source": [
    "features = df.drop('income', axis=1)\n",
    "target = df['income']\n",
    "print(target.value_counts())"
   ]
  },
  {
   "cell_type": "markdown",
   "id": "af8904a3",
   "metadata": {},
   "source": [
    "#### Encode categorical features"
   ]
  },
  {
   "cell_type": "code",
   "execution_count": 12,
   "id": "a1c5ea54",
   "metadata": {},
   "outputs": [],
   "source": [
    "label_encoders = {} #label_encoders is saved to be used while preprocessing test data\n",
    "for column in features.select_dtypes(include=['object']).columns:\n",
    "    le = LabelEncoder()\n",
    "    features[column] = le.fit_transform(features[column])\n",
    "    label_encoders[column] = le\n"
   ]
  },
  {
   "cell_type": "markdown",
   "id": "fa265b54",
   "metadata": {},
   "source": [
    "### Train the Ensemble Model of 10 Decision Tree Clasifiers"
   ]
  },
  {
   "cell_type": "code",
   "execution_count": 13,
   "id": "dd50d8f8",
   "metadata": {},
   "outputs": [
    {
     "name": "stdout",
     "output_type": "stream",
     "text": [
      "Model  1  training completed. Training time: 3.2542431354522705 seconds\n",
      "Model  2  training completed. Training time: 3.1622488498687744 seconds\n",
      "Model  3  training completed. Training time: 2.848464012145996 seconds\n",
      "Model  4  training completed. Training time: 2.95104718208313 seconds\n",
      "Model  5  training completed. Training time: 2.9663941860198975 seconds\n",
      "Model  6  training completed. Training time: 3.029052257537842 seconds\n",
      "Model  7  training completed. Training time: 3.0786495208740234 seconds\n",
      "Model  8  training completed. Training time: 2.8270511627197266 seconds\n",
      "Model  9  training completed. Training time: 2.6952407360076904 seconds\n",
      "Model  10  training completed. Training time: 2.9935622215270996 seconds\n",
      "\n",
      "\n",
      " The Total training time for the model is  29.80595326423645\n"
     ]
    }
   ],
   "source": [
    "#features.drop(columns=columns_to_remove)\n",
    "\n",
    "numBaseModels = 10\n",
    "\n",
    "baseModels = []\n",
    "\n",
    "samples_per_class = 2000\n",
    "class_0_indices = target[target == 0].index\n",
    "class_1_indices = target[target == 1].index\n",
    "\n",
    "# Train individual base models\n",
    "finalTrainingTime = 0\n",
    "for i in range(numBaseModels):       \n",
    "    # Create a new instance of DecisionTreeClassifierHunt with custom parameters\n",
    "    baseModel = DecisionTreeClassifierHunt(maxDepth=10, minSamplesLeaf=5)\n",
    "\n",
    "    \n",
    "    # Randomly select a subset of the training data having equal count of each class for each base model\n",
    "    sampled_class_0_indices = np.random.choice(class_0_indices, size=samples_per_class, replace=False)\n",
    "    sampled_class_1_indices = np.random.choice(class_1_indices, size=samples_per_class, replace=False)\n",
    "    \n",
    "    \n",
    "    # Combine the indices of both classes\n",
    "    sampledIndices = np.concatenate([sampled_class_0_indices, sampled_class_1_indices])\n",
    "    sampleIndices = np.random.choice(len(sampledIndices), size=int(0.7 * len(sampledIndices)), replace=False)\n",
    "    sampledFeatures = features.iloc[sampleIndices]\n",
    "    sampledTarget = target.iloc[sampleIndices]\n",
    "    \n",
    "    start_time = time.time()\n",
    "    \n",
    "    # Train the base model on the sampled data\n",
    "    baseModel.fit(sampledFeatures.to_numpy(), sampledTarget.to_numpy())\n",
    "    \n",
    "    training_time = time.time() - start_time\n",
    "    finalTrainingTime += training_time\n",
    "    \n",
    "    # Append the trained base model to the list\n",
    "    baseModels.append(baseModel)\n",
    "    print(\"Model \",i+1, \" training completed. Training time:\", training_time, \"seconds\")\n",
    "    \n",
    "print(\"\\n\\n The Total training time for the model is \", finalTrainingTime)\n"
   ]
  },
  {
   "cell_type": "markdown",
   "id": "f227d59b",
   "metadata": {},
   "source": [
    "### Import and Preprocess the Test Data (adult.test)"
   ]
  },
  {
   "cell_type": "code",
   "execution_count": 14,
   "id": "92e08b1b",
   "metadata": {},
   "outputs": [
    {
     "name": "stdout",
     "output_type": "stream",
     "text": [
      "[0 1]\n"
     ]
    },
    {
     "data": {
      "text/html": [
       "<div>\n",
       "<style scoped>\n",
       "    .dataframe tbody tr th:only-of-type {\n",
       "        vertical-align: middle;\n",
       "    }\n",
       "\n",
       "    .dataframe tbody tr th {\n",
       "        vertical-align: top;\n",
       "    }\n",
       "\n",
       "    .dataframe thead th {\n",
       "        text-align: right;\n",
       "    }\n",
       "</style>\n",
       "<table border=\"1\" class=\"dataframe\">\n",
       "  <thead>\n",
       "    <tr style=\"text-align: right;\">\n",
       "      <th></th>\n",
       "      <th>age</th>\n",
       "      <th>workclass</th>\n",
       "      <th>fnlwgt</th>\n",
       "      <th>education</th>\n",
       "      <th>education-num</th>\n",
       "      <th>marital-status</th>\n",
       "      <th>occupation</th>\n",
       "      <th>relationship</th>\n",
       "      <th>race</th>\n",
       "      <th>sex</th>\n",
       "      <th>capital-gain</th>\n",
       "      <th>capital-loss</th>\n",
       "      <th>hours-per-week</th>\n",
       "      <th>native-country</th>\n",
       "    </tr>\n",
       "  </thead>\n",
       "  <tbody>\n",
       "    <tr>\n",
       "      <th>0</th>\n",
       "      <td>25</td>\n",
       "      <td>2</td>\n",
       "      <td>226802</td>\n",
       "      <td>1</td>\n",
       "      <td>7</td>\n",
       "      <td>4</td>\n",
       "      <td>6</td>\n",
       "      <td>3</td>\n",
       "      <td>2</td>\n",
       "      <td>1</td>\n",
       "      <td>0</td>\n",
       "      <td>0</td>\n",
       "      <td>40</td>\n",
       "      <td>38</td>\n",
       "    </tr>\n",
       "    <tr>\n",
       "      <th>1</th>\n",
       "      <td>38</td>\n",
       "      <td>2</td>\n",
       "      <td>89814</td>\n",
       "      <td>11</td>\n",
       "      <td>9</td>\n",
       "      <td>2</td>\n",
       "      <td>4</td>\n",
       "      <td>0</td>\n",
       "      <td>4</td>\n",
       "      <td>1</td>\n",
       "      <td>0</td>\n",
       "      <td>0</td>\n",
       "      <td>50</td>\n",
       "      <td>38</td>\n",
       "    </tr>\n",
       "    <tr>\n",
       "      <th>2</th>\n",
       "      <td>28</td>\n",
       "      <td>1</td>\n",
       "      <td>336951</td>\n",
       "      <td>7</td>\n",
       "      <td>12</td>\n",
       "      <td>2</td>\n",
       "      <td>10</td>\n",
       "      <td>0</td>\n",
       "      <td>4</td>\n",
       "      <td>1</td>\n",
       "      <td>0</td>\n",
       "      <td>0</td>\n",
       "      <td>40</td>\n",
       "      <td>38</td>\n",
       "    </tr>\n",
       "    <tr>\n",
       "      <th>3</th>\n",
       "      <td>44</td>\n",
       "      <td>2</td>\n",
       "      <td>160323</td>\n",
       "      <td>15</td>\n",
       "      <td>10</td>\n",
       "      <td>2</td>\n",
       "      <td>6</td>\n",
       "      <td>0</td>\n",
       "      <td>2</td>\n",
       "      <td>1</td>\n",
       "      <td>7688</td>\n",
       "      <td>0</td>\n",
       "      <td>40</td>\n",
       "      <td>38</td>\n",
       "    </tr>\n",
       "    <tr>\n",
       "      <th>5</th>\n",
       "      <td>34</td>\n",
       "      <td>2</td>\n",
       "      <td>198693</td>\n",
       "      <td>0</td>\n",
       "      <td>6</td>\n",
       "      <td>4</td>\n",
       "      <td>7</td>\n",
       "      <td>1</td>\n",
       "      <td>4</td>\n",
       "      <td>1</td>\n",
       "      <td>0</td>\n",
       "      <td>0</td>\n",
       "      <td>30</td>\n",
       "      <td>38</td>\n",
       "    </tr>\n",
       "  </tbody>\n",
       "</table>\n",
       "</div>"
      ],
      "text/plain": [
       "   age  workclass  fnlwgt  education  education-num  marital-status  \\\n",
       "0   25          2  226802          1              7               4   \n",
       "1   38          2   89814         11              9               2   \n",
       "2   28          1  336951          7             12               2   \n",
       "3   44          2  160323         15             10               2   \n",
       "5   34          2  198693          0              6               4   \n",
       "\n",
       "   occupation  relationship  race  sex  capital-gain  capital-loss  \\\n",
       "0           6             3     2    1             0             0   \n",
       "1           4             0     4    1             0             0   \n",
       "2          10             0     4    1             0             0   \n",
       "3           6             0     2    1          7688             0   \n",
       "5           7             1     4    1             0             0   \n",
       "\n",
       "   hours-per-week  native-country  \n",
       "0              40              38  \n",
       "1              50              38  \n",
       "2              40              38  \n",
       "3              40              38  \n",
       "5              30              38  "
      ]
     },
     "execution_count": 14,
     "metadata": {},
     "output_type": "execute_result"
    }
   ],
   "source": [
    "testDf = pd.read_csv(r'Census Income Data Set/adult.test',skiprows=1, header=None, na_values=[' ?'])\n",
    "\n",
    "# Assign column names\n",
    "testDf.columns = columnNames\n",
    "testDf.dropna(inplace=True)\n",
    "\n",
    "# Convert 'income' column to binary labels (0 for <=50K, 1 for >50K)\n",
    "testDf['income'] = testDf['income'].apply(lambda x: 0 if x == ' <=50K.' else 1)\n",
    "print(testDf.income.unique())\n",
    "\n",
    "# Separate features and target variable\n",
    "testFeatures = testDf.drop('income', axis=1)\n",
    "actualClass = testDf['income']\n",
    "\n",
    "#Use the same encoder used during Training\n",
    "for column, le in label_encoders.items():\n",
    "    testFeatures[column] = le.transform(testFeatures[column])\n",
    "        \n",
    "testFeatures.head()"
   ]
  },
  {
   "cell_type": "markdown",
   "id": "2167c9cb",
   "metadata": {},
   "source": [
    "### Apply the Model on Test Dataset (adult.test)"
   ]
  },
  {
   "cell_type": "code",
   "execution_count": 15,
   "id": "a8b301ea",
   "metadata": {},
   "outputs": [
    {
     "name": "stdout",
     "output_type": "stream",
     "text": [
      "Accuracy of model  1   0.8203851261620186\n",
      "Accuracy of model  2   0.8150730411686588\n",
      "Accuracy of model  3   0.8244355909694555\n",
      "Accuracy of model  4   0.8263612217795485\n",
      "Accuracy of model  5   0.8187250996015937\n",
      "Accuracy of model  6   0.8231739707835325\n",
      "Accuracy of model  7   0.8251660026560425\n",
      "Accuracy of model  8   0.8225099601593625\n",
      "Accuracy of model  9   0.8179282868525897\n",
      "Accuracy of model  10   0.8114873837981408\n",
      "Accuracy of the Final Model: 0.8372509960159362\n",
      "\n"
     ]
    }
   ],
   "source": [
    "# Use the ensemble of base models to make predictions on test data\n",
    "# Replace test_features with your test data\n",
    "\n",
    "predictionList = []\n",
    "accuracyall =[]\n",
    "i=1\n",
    "for model in baseModels:\n",
    "    modelPredictions = model.predict(testFeatures.to_numpy())\n",
    "    predictionList.append(modelPredictions)\n",
    "    accuracy = (np.mean(modelPredictions == actualClass))\n",
    "    accuracyall.append(accuracy)\n",
    "    print(\"Accuracy of model \",i,' ',accuracy)\n",
    "    i+=1\n",
    "\n",
    "# Combine predictions using majority voting for classification\n",
    "combinedPredictions = np.array(predictionList).T  # Transpose for element-wise voting\n",
    "predictions = np.array([np.bincount(pred).argmax() for pred in combinedPredictions])\n",
    "\n",
    "# Evaluate the ensemble model's performance (e.g., using accuracy)\n",
    "# Compare ensemble_predictions with actualClass\n",
    "accuracy = np.mean(predictions == actualClass)\n",
    "\n",
    "print(\"Accuracy of the Final Model:\", accuracy)\n",
    "print()"
   ]
  },
  {
   "cell_type": "markdown",
   "id": "91044ad2",
   "metadata": {},
   "source": [
    "### Confusion Matrix Calculation"
   ]
  },
  {
   "cell_type": "code",
   "execution_count": 18,
   "id": "92f8af39",
   "metadata": {},
   "outputs": [
    {
     "name": "stdout",
     "output_type": "stream",
     "text": [
      "[[10403   957]\n",
      " [ 1494  2206]]\n"
     ]
    },
    {
     "data": {
      "image/png": "[encoded data removed]",
      "text/plain": [
       "<Figure size 576x432 with 2 Axes>"
      ]
     },
     "metadata": {
      "needs_background": "light"
     },
     "output_type": "display_data"
    }
   ],
   "source": [
    "# Compute the confusion matrix\n",
    "conf_matrix = confusion_matrix(actualClass, predictions)\n",
    "print(conf_matrix)\n",
    "# Display the confusion matrix using a heatmap\n",
    "plt.figure(figsize=(8, 6))\n",
    "sns.heatmap(conf_matrix, annot=True, fmt='d', cmap='Blues', \n",
    "            xticklabels=['Predicted 0', 'Predicted 1'], \n",
    "            yticklabels=['Actual 0', 'Actual 1'])\n",
    "plt.xlabel('Predicted')\n",
    "plt.ylabel('Actual')\n",
    "plt.title('Confusion Matrix')\n",
    "plt.show()"
   ]
  },
  {
   "cell_type": "markdown",
   "id": "1f1d231b",
   "metadata": {},
   "source": [
    "### Performance Metrics"
   ]
  },
  {
   "cell_type": "code",
   "execution_count": 17,
   "id": "042bd5b5",
   "metadata": {},
   "outputs": [
    {
     "name": "stdout",
     "output_type": "stream",
     "text": [
      "Accuracy: 0.8372509960159362\n",
      "Precision: 0.697439140056908\n",
      "Recall: 0.5962162162162162\n",
      "F1-Score: 0.6428675506338336\n"
     ]
    }
   ],
   "source": [
    "# Assuming actualClass contains the true labels and predictions contains the predicted labels\n",
    "cm = confusion_matrix(actualClass, predictions)\n",
    "\n",
    "# Extract values from the confusion matrix\n",
    "TN, FP, FN, TP = cm.ravel()\n",
    "\n",
    "# Calculate classification metrics\n",
    "accuracy = (TP + TN) / (TP + TN + FP + FN)\n",
    "precision = TP / (TP + FP)\n",
    "recall = TP / (TP + FN)\n",
    "f1 = 2 * (precision * recall) / (precision + recall)\n",
    "\n",
    "# Print the computed metrics\n",
    "print(\"Accuracy:\", accuracy)\n",
    "print(\"Precision:\", precision)\n",
    "print(\"Recall:\", recall)\n",
    "print(\"F1-Score:\", f1)\n"
   ]
  }
 ],
 "metadata": {
  "kernelspec": {
   "display_name": "Python 3",
   "language": "python",
   "name": "python3"
  },
  "language_info": {
   "codemirror_mode": {
    "name": "ipython",
    "version": 3
   },
   "file_extension": ".py",
   "mimetype": "text/x-python",
   "name": "python",
   "nbconvert_exporter": "python",
   "pygments_lexer": "ipython3",
   "version": "3.8.8"
  }
 },
 "nbformat": 4,
 "nbformat_minor": 5
}
